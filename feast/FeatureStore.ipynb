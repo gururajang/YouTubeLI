{
 "cells": [
  {
   "cell_type": "code",
   "execution_count": 1,
   "id": "26a45a91",
   "metadata": {},
   "outputs": [],
   "source": [
    "from datetime import datetime, timedelta\n",
    "\n",
    "import pandas as pd\n",
    "from demostore.driver_repo import transaction, transaction_stats_fv\n",
    "\n",
    "from feast import FeatureStore, RepoConfig\n",
    "import pytz"
   ]
  },
  {
   "cell_type": "code",
   "execution_count": 2,
   "id": "4f4e29b9",
   "metadata": {},
   "outputs": [
    {
     "name": "stderr",
     "output_type": "stream",
     "text": [
      "/opt/conda/lib/python3.7/site-packages/ipykernel/ipkernel.py:283: DeprecationWarning: `should_run_async` will not call `transform_cell` automatically in the future. Please pass the result to `transformed_cell` argument and any exception that happen during thetransform in `preprocessing_exc_tuple` in IPython 7.17 and above.\n",
      "  and should_run_async(code)\n"
     ]
    }
   ],
   "source": [
    " fs = FeatureStore(repo_path=\"./demostore\")"
   ]
  },
  {
   "cell_type": "code",
   "execution_count": 3,
   "id": "e8da0028",
   "metadata": {},
   "outputs": [],
   "source": [
    "fs.apply([transaction, transaction_stats_fv])"
   ]
  },
  {
   "cell_type": "code",
   "execution_count": 4,
   "id": "93effaeb",
   "metadata": {},
   "outputs": [],
   "source": [
    "df=pd.read_csv(\"transaction_items.csv\")"
   ]
  },
  {
   "cell_type": "code",
   "execution_count": 5,
   "id": "f38feb56",
   "metadata": {},
   "outputs": [
    {
     "data": {
      "text/html": [
       "<div>\n",
       "<style scoped>\n",
       "    .dataframe tbody tr th:only-of-type {\n",
       "        vertical-align: middle;\n",
       "    }\n",
       "\n",
       "    .dataframe tbody tr th {\n",
       "        vertical-align: top;\n",
       "    }\n",
       "\n",
       "    .dataframe thead th {\n",
       "        text-align: right;\n",
       "    }\n",
       "</style>\n",
       "<table border=\"1\" class=\"dataframe\">\n",
       "  <thead>\n",
       "    <tr style=\"text-align: right;\">\n",
       "      <th></th>\n",
       "      <th>CustomerID</th>\n",
       "      <th>price_sum</th>\n",
       "      <th>event_timestamp</th>\n",
       "      <th>created_timestamp</th>\n",
       "    </tr>\n",
       "  </thead>\n",
       "  <tbody>\n",
       "    <tr>\n",
       "      <th>0</th>\n",
       "      <td>12346</td>\n",
       "      <td>-1</td>\n",
       "      <td>2010-06-30 11:22:00</td>\n",
       "      <td>2010-06-30 11:22:00</td>\n",
       "    </tr>\n",
       "    <tr>\n",
       "      <th>1</th>\n",
       "      <td>12349</td>\n",
       "      <td>60</td>\n",
       "      <td>2010-10-28 08:23:00</td>\n",
       "      <td>2010-10-28 08:23:00</td>\n",
       "    </tr>\n",
       "    <tr>\n",
       "      <th>2</th>\n",
       "      <td>12351</td>\n",
       "      <td>6</td>\n",
       "      <td>2010-11-29 15:23:00</td>\n",
       "      <td>2010-11-29 15:23:00</td>\n",
       "    </tr>\n",
       "    <tr>\n",
       "      <th>3</th>\n",
       "      <td>12355</td>\n",
       "      <td>35</td>\n",
       "      <td>2010-05-21 11:59:00</td>\n",
       "      <td>2010-05-21 11:59:00</td>\n",
       "    </tr>\n",
       "    <tr>\n",
       "      <th>4</th>\n",
       "      <td>12356</td>\n",
       "      <td>84</td>\n",
       "      <td>2010-10-11 09:42:00</td>\n",
       "      <td>2010-10-11 09:42:00</td>\n",
       "    </tr>\n",
       "    <tr>\n",
       "      <th>...</th>\n",
       "      <td>...</td>\n",
       "      <td>...</td>\n",
       "      <td>...</td>\n",
       "      <td>...</td>\n",
       "    </tr>\n",
       "    <tr>\n",
       "      <th>3109</th>\n",
       "      <td>18280</td>\n",
       "      <td>12</td>\n",
       "      <td>2010-11-10 15:51:00</td>\n",
       "      <td>2010-11-10 15:51:00</td>\n",
       "    </tr>\n",
       "    <tr>\n",
       "      <th>3110</th>\n",
       "      <td>18283</td>\n",
       "      <td>28</td>\n",
       "      <td>2010-11-22 15:01:00</td>\n",
       "      <td>2010-11-22 15:01:00</td>\n",
       "    </tr>\n",
       "    <tr>\n",
       "      <th>3111</th>\n",
       "      <td>18284</td>\n",
       "      <td>12</td>\n",
       "      <td>2010-10-04 11:33:00</td>\n",
       "      <td>2010-10-04 11:33:00</td>\n",
       "    </tr>\n",
       "    <tr>\n",
       "      <th>3112</th>\n",
       "      <td>18286</td>\n",
       "      <td>20</td>\n",
       "      <td>2010-08-20 11:57:00</td>\n",
       "      <td>2010-08-20 11:57:00</td>\n",
       "    </tr>\n",
       "    <tr>\n",
       "      <th>3113</th>\n",
       "      <td>18287</td>\n",
       "      <td>73</td>\n",
       "      <td>2010-09-21 12:17:00</td>\n",
       "      <td>2010-09-21 12:17:00</td>\n",
       "    </tr>\n",
       "  </tbody>\n",
       "</table>\n",
       "<p>3114 rows × 4 columns</p>\n",
       "</div>"
      ],
      "text/plain": [
       "      CustomerID  price_sum      event_timestamp    created_timestamp\n",
       "0          12346         -1  2010-06-30 11:22:00  2010-06-30 11:22:00\n",
       "1          12349         60  2010-10-28 08:23:00  2010-10-28 08:23:00\n",
       "2          12351          6  2010-11-29 15:23:00  2010-11-29 15:23:00\n",
       "3          12355         35  2010-05-21 11:59:00  2010-05-21 11:59:00\n",
       "4          12356         84  2010-10-11 09:42:00  2010-10-11 09:42:00\n",
       "...          ...        ...                  ...                  ...\n",
       "3109       18280         12  2010-11-10 15:51:00  2010-11-10 15:51:00\n",
       "3110       18283         28  2010-11-22 15:01:00  2010-11-22 15:01:00\n",
       "3111       18284         12  2010-10-04 11:33:00  2010-10-04 11:33:00\n",
       "3112       18286         20  2010-08-20 11:57:00  2010-08-20 11:57:00\n",
       "3113       18287         73  2010-09-21 12:17:00  2010-09-21 12:17:00\n",
       "\n",
       "[3114 rows x 4 columns]"
      ]
     },
     "execution_count": 5,
     "metadata": {},
     "output_type": "execute_result"
    }
   ],
   "source": [
    "df"
   ]
  },
  {
   "cell_type": "code",
   "execution_count": 8,
   "id": "7011302a",
   "metadata": {},
   "outputs": [
    {
     "name": "stdout",
     "output_type": "stream",
     "text": [
      "<class 'pandas.core.frame.DataFrame'>\n",
      "Int64Index: 3114 entries, 0 to 3113\n",
      "Data columns (total 4 columns):\n",
      " #   Column             Non-Null Count  Dtype         \n",
      "---  ------             --------------  -----         \n",
      " 0   CustomerID         3114 non-null   int64         \n",
      " 1   price_sum          3114 non-null   int64         \n",
      " 2   event_timestamp    3114 non-null   datetime64[ns]\n",
      " 3   created_timestamp  3114 non-null   datetime64[ns]\n",
      "dtypes: datetime64[ns](2), int64(2)\n",
      "memory usage: 121.6 KB\n"
     ]
    }
   ],
   "source": [
    "df.info()"
   ]
  },
  {
   "cell_type": "code",
   "execution_count": 7,
   "id": "6e42bb05",
   "metadata": {},
   "outputs": [],
   "source": [
    "df['event_timestamp']=pd.to_datetime(df['event_timestamp'],format='%Y-%m-%d %H:%M:%S')\n",
    "df['created_timestamp']=pd.to_datetime(df['created_timestamp'],format='%Y-%m-%d %H:%M:%S')"
   ]
  },
  {
   "cell_type": "code",
   "execution_count": 9,
   "id": "66bb4f0f",
   "metadata": {},
   "outputs": [],
   "source": [
    "training_df = fs.get_historical_features(\n",
    "   feature_refs=[\n",
    "       \"transaction:price_sum\",\n",
    "       \"transaction:total_count\",\n",
    "       \"transaction:Country\"\n",
    "    ],\n",
    "   entity_df=df\n",
    ").to_df()"
   ]
  },
  {
   "cell_type": "code",
   "execution_count": null,
   "id": "e476184f",
   "metadata": {},
   "outputs": [],
   "source": [
    "print()"
   ]
  },
  {
   "cell_type": "code",
   "execution_count": 10,
   "id": "2bd8b809",
   "metadata": {},
   "outputs": [
    {
     "name": "stdout",
     "output_type": "stream",
     "text": [
      "               event_timestamp  CustomerID  price_sum  \\\n",
      "0    2009-12-01 10:36:00+00:00       16321          6   \n",
      "1    2009-12-01 10:44:00+00:00       17592         -3   \n",
      "2    2009-12-01 12:11:00+00:00       15299         -1   \n",
      "3    2009-12-01 12:57:00+00:00       14654          6   \n",
      "4    2009-12-01 14:52:00+00:00       17485         -1   \n",
      "...                        ...         ...        ...   \n",
      "3109 2010-12-09 16:53:00+00:00       15555         66   \n",
      "3110 2010-12-09 18:58:00+00:00       14713         75   \n",
      "3111 2010-12-09 19:23:00+00:00       14702         66   \n",
      "3112 2010-12-09 19:28:00+00:00       13230         45   \n",
      "3113 2010-12-09 20:01:00+00:00       17530         20   \n",
      "\n",
      "             created_timestamp  transaction__price_sum  \\\n",
      "0    2009-12-01 10:36:00+00:00                    2.10   \n",
      "1    2009-12-01 10:44:00+00:00                    4.25   \n",
      "2    2009-12-01 12:11:00+00:00                    9.00   \n",
      "3    2009-12-01 12:57:00+00:00                    0.42   \n",
      "4    2009-12-01 14:52:00+00:00                    2.95   \n",
      "...                        ...                     ...   \n",
      "3109 2010-12-09 16:53:00+00:00                   68.59   \n",
      "3110 2010-12-09 18:58:00+00:00                   46.05   \n",
      "3111 2010-12-09 19:23:00+00:00                   56.40   \n",
      "3112 2010-12-09 19:28:00+00:00                   37.92   \n",
      "3113 2010-12-09 20:01:00+00:00                   12.45   \n",
      "\n",
      "      transaction__total_count transaction__Country  \n",
      "0                            1            Australia  \n",
      "1                            1       United Kingdom  \n",
      "2                            1       United Kingdom  \n",
      "3                            1       United Kingdom  \n",
      "4                            1       United Kingdom  \n",
      "...                        ...                  ...  \n",
      "3109                        36       United Kingdom  \n",
      "3110                        22       United Kingdom  \n",
      "3111                        19       United Kingdom  \n",
      "3112                        20       United Kingdom  \n",
      "3113                         7       United Kingdom  \n",
      "\n",
      "[3114 rows x 7 columns]\n"
     ]
    }
   ],
   "source": [
    "print(training_df)"
   ]
  },
  {
   "cell_type": "code",
   "execution_count": 11,
   "id": "9b38b1f6",
   "metadata": {},
   "outputs": [
    {
     "name": "stderr",
     "output_type": "stream",
     "text": [
      "/opt/conda/lib/python3.7/site-packages/ipykernel/ipkernel.py:283: DeprecationWarning: `should_run_async` will not call `transform_cell` automatically in the future. Please pass the result to `transformed_cell` argument and any exception that happen during thetransform in `preprocessing_exc_tuple` in IPython 7.17 and above.\n",
      "  and should_run_async(code)\n"
     ]
    },
    {
     "data": {
      "text/plain": [
       "[<FeatureView(name = transaction, entities = ['CustomerID'], features = [<feast.feature.Feature object at 0x7f7a3c3a88d0>, <feast.feature.Feature object at 0x7f7a3c3a8dd0>, <feast.feature.Feature object at 0x7f7a3c3a8c50>], tags = {'team': 'transaction'}, ttl = 7000 days, 0:00:00, online = True, input = <feast.data_source.BigQuerySource object at 0x7f7a3c3a8350>, materialization_intervals = [], created_timestamp = )>]"
      ]
     },
     "execution_count": 11,
     "metadata": {},
     "output_type": "execute_result"
    }
   ],
   "source": [
    "fs.list_feature_views()"
   ]
  },
  {
   "cell_type": "code",
   "execution_count": 12,
   "id": "e7f2a7d4",
   "metadata": {},
   "outputs": [],
   "source": [
    "online_features = fs.get_online_features(\n",
    "   feature_refs=[\n",
    "       \"transaction:price_sum\",\n",
    "       \"transaction:total_count\",\n",
    "       \"transaction:Country\"\n",
    "    ],\n",
    "   entity_rows=[{\"CustomerID\": 12346}, {\"CustomerID\": 12419}],\n",
    ").to_dict()"
   ]
  },
  {
   "cell_type": "code",
   "execution_count": 13,
   "id": "c1b92d5f",
   "metadata": {},
   "outputs": [
    {
     "data": {
      "text/plain": [
       "{'transaction__price_sum': [44.769999999999996, 28.0],\n",
       " 'transaction__Country': ['United Kingdom', 'Spain'],\n",
       " 'transaction__total_count': [3, 1],\n",
       " 'CustomerID': [12346, 12419]}"
      ]
     },
     "execution_count": 13,
     "metadata": {},
     "output_type": "execute_result"
    }
   ],
   "source": [
    "online_features"
   ]
  },
  {
   "cell_type": "code",
   "execution_count": null,
   "id": "9c688dcc",
   "metadata": {},
   "outputs": [],
   "source": []
  }
 ],
 "metadata": {
  "environment": {
   "name": "common-cpu.m65",
   "type": "gcloud",
   "uri": "gcr.io/deeplearning-platform-release/base-cpu:m65"
  },
  "kernelspec": {
   "display_name": "Python 3",
   "language": "python",
   "name": "python3"
  },
  "language_info": {
   "codemirror_mode": {
    "name": "ipython",
    "version": 3
   },
   "file_extension": ".py",
   "mimetype": "text/x-python",
   "name": "python",
   "nbconvert_exporter": "python",
   "pygments_lexer": "ipython3",
   "version": "3.7.10"
  }
 },
 "nbformat": 4,
 "nbformat_minor": 5
}
