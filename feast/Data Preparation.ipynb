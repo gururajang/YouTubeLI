{
 "cells": [
  {
   "cell_type": "code",
   "execution_count": null,
   "id": "a43bf503",
   "metadata": {},
   "outputs": [],
   "source": [
    "import pandas as pd\n",
    "import numpy as np"
   ]
  },
  {
   "cell_type": "code",
   "execution_count": null,
   "id": "24f1b55f",
   "metadata": {},
   "outputs": [],
   "source": [
    "df = pd.read_csv('gs://sri-dataset/online_trans.csv')"
   ]
  },
  {
   "cell_type": "code",
   "execution_count": null,
   "id": "ea99de8b",
   "metadata": {},
   "outputs": [],
   "source": [
    "df"
   ]
  },
  {
   "cell_type": "code",
   "execution_count": null,
   "id": "fd539ecc",
   "metadata": {},
   "outputs": [],
   "source": [
    "df.isna().sum()"
   ]
  },
  {
   "cell_type": "code",
   "execution_count": null,
   "id": "7523c7f3",
   "metadata": {},
   "outputs": [],
   "source": [
    "df = df[df['Customer ID'].notna()]"
   ]
  },
  {
   "cell_type": "code",
   "execution_count": null,
   "id": "a12282d6",
   "metadata": {},
   "outputs": [],
   "source": [
    "df=df.rename({'Customer ID':'CustomerID'}, axis=1)"
   ]
  },
  {
   "cell_type": "code",
   "execution_count": null,
   "id": "a747c5b1",
   "metadata": {},
   "outputs": [],
   "source": [
    "df['CustomerID']=df['CustomerID'].apply(np.int64)"
   ]
  },
  {
   "cell_type": "code",
   "execution_count": null,
   "id": "6650c4f6",
   "metadata": {},
   "outputs": [],
   "source": [
    "df.info()"
   ]
  },
  {
   "cell_type": "code",
   "execution_count": null,
   "id": "75ae82f5",
   "metadata": {},
   "outputs": [],
   "source": [
    "df.groupby('CustomerID').agg(price_sum=('Price', 'sum'), total_count=('Price', 'count'), max_date=('InvoiceDate','max'))"
   ]
  },
  {
   "cell_type": "code",
   "execution_count": null,
   "id": "2c073b2d",
   "metadata": {},
   "outputs": [],
   "source": [
    "df_int=df.groupby('CustomerID').agg(price_sum=('Price', 'sum'), total_count=('Price', 'count'), event_timestamp=('InvoiceDate','max'), created_timestamp=('InvoiceDate','max')).reset_index()"
   ]
  },
  {
   "cell_type": "code",
   "execution_count": null,
   "id": "3871eab0",
   "metadata": {},
   "outputs": [],
   "source": [
    "df_int"
   ]
  },
  {
   "cell_type": "code",
   "execution_count": null,
   "id": "79e6a9e0",
   "metadata": {},
   "outputs": [],
   "source": [
    "df_final=df_int.join(df[['Country','CustomerID']].drop_duplicates().set_index('CustomerID'), on='CustomerID')"
   ]
  },
  {
   "cell_type": "code",
   "execution_count": null,
   "id": "58a8fa26",
   "metadata": {},
   "outputs": [],
   "source": [
    "df_final"
   ]
  },
  {
   "cell_type": "code",
   "execution_count": null,
   "id": "425f783c",
   "metadata": {},
   "outputs": [],
   "source": [
    "df_final['event_timestamp']=pd.to_datetime(df_final['event_timestamp'],format='%Y-%m-%d %H:%M:%S')\n",
    "df_final['created_timestamp']=pd.to_datetime(df_final['created_timestamp'],format='%Y-%m-%d %H:%M:%S')"
   ]
  },
  {
   "cell_type": "code",
   "execution_count": null,
   "id": "62d81d6c",
   "metadata": {},
   "outputs": [],
   "source": [
    "df_final.to_parquet('transactions.parquet')"
   ]
  },
  {
   "cell_type": "code",
   "execution_count": null,
   "id": "891f44e8",
   "metadata": {},
   "outputs": [],
   "source": [
    "df_final.to_csv('transactions.csv', index=False)"
   ]
  },
  {
   "cell_type": "code",
   "execution_count": null,
   "id": "675cd87b",
   "metadata": {},
   "outputs": [],
   "source": [
    "!gsutil cp transactions.csv gs://sri-dataset/transactions.csv"
   ]
  },
  {
   "cell_type": "code",
   "execution_count": null,
   "id": "11835a72",
   "metadata": {},
   "outputs": [],
   "source": [
    "df_alt=df.groupby('CustomerID').agg(quantity_sum=('Quantity', 'sum'), event_timestamp=('InvoiceDate','max'), created_timestamp=('InvoiceDate','max')).reset_index()"
   ]
  },
  {
   "cell_type": "code",
   "execution_count": null,
   "id": "2a779d55",
   "metadata": {},
   "outputs": [],
   "source": [
    "df_alt.to_csv(\"transaction_items.csv\", index_label=False)"
   ]
  },
  {
   "cell_type": "code",
   "execution_count": null,
   "id": "0d61d86f",
   "metadata": {},
   "outputs": [],
   "source": []
  }
 ],
 "metadata": {
  "environment": {
   "name": "common-cpu.m65",
   "type": "gcloud",
   "uri": "gcr.io/deeplearning-platform-release/base-cpu:m65"
  },
  "kernelspec": {
   "display_name": "Python 3",
   "language": "python",
   "name": "python3"
  },
  "language_info": {
   "codemirror_mode": {
    "name": "ipython",
    "version": 3
   },
   "file_extension": ".py",
   "mimetype": "text/x-python",
   "name": "python",
   "nbconvert_exporter": "python",
   "pygments_lexer": "ipython3",
   "version": "3.7.10"
  }
 },
 "nbformat": 4,
 "nbformat_minor": 5
}
